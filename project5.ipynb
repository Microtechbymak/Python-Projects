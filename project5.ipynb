{
  "nbformat": 4,
  "nbformat_minor": 0,
  "metadata": {
    "colab": {
      "provenance": [],
      "authorship_tag": "ABX9TyO0XZyAUTQEQfI0MXpWADQP"
    },
    "kernelspec": {
      "name": "python3",
      "display_name": "Python 3"
    },
    "language_info": {
      "name": "python"
    }
  },
  "cells": [
    {
      "cell_type": "code",
      "source": [
        "pip install google-auth google-auth-oauthlib google-auth-httplib2 google-api-python-client crewai"
      ],
      "metadata": {
        "id": "puudJHK8B6p5"
      },
      "execution_count": null,
      "outputs": []
    },
    {
      "cell_type": "code",
      "source": [
        "import os.path\n",
        "from google.auth.transport.requests import Request\n",
        "from google.oauth2.credentials import Credentials\n",
        "from google_auth_oauthlib.flow import InstalledAppFlow\n",
        "from googleapiclient.discovery import build\n",
        "\n",
        "# Define the scope for Gmail API\n",
        "SCOPES = ['https://www.googleapis.com/auth/gmail.modify']\n",
        "\n",
        "def authenticate_gmail():\n",
        "    creds = None\n",
        "    if os.path.exists('token.json'):\n",
        "        creds = Credentials.from_authorized_user_file('token.json', SCOPES)\n",
        "    if not creds or not creds.valid:\n",
        "        if creds and creds.expired and creds.refresh_token:\n",
        "            creds.refresh(Request())\n",
        "        else:\n",
        "            flow = InstalledAppFlow.from_client_secrets_file('credentials.json', SCOPES)\n",
        "            creds = flow.run_local_server(port=0)\n",
        "        with open('token.json', 'w') as token:\n",
        "            token.write(creds.to_json())\n",
        "    return build('gmail', 'v1', credentials=creds)"
      ],
      "metadata": {
        "id": "ZpDS0sMKAxsH"
      },
      "execution_count": 16,
      "outputs": []
    },
    {
      "cell_type": "code",
      "source": [
        "def fetch_unread_emails(service):\n",
        "    results = service.users().messages().list(userId='me', labelIds=['INBOX', 'UNREAD']).execute()\n",
        "    messages = results.get('messages', [])\n",
        "    return messages"
      ],
      "metadata": {
        "id": "8ad_6aIpBH3u"
      },
      "execution_count": 17,
      "outputs": []
    },
    {
      "cell_type": "code",
      "source": [
        "from crewai import Agent, Task\n",
        "\n",
        "def process_email_with_crewai(email_content):\n",
        "    # Define CrewAI agent\n",
        "    responder_agent = Agent(\n",
        "        role=\"Email Responder\",\n",
        "        goal=\"Generate a polite and professional response to the email.\",\n",
        "        backstory=\"You are an AI assistant trained to handle email communications.\"\n",
        "    )\n",
        "\n",
        "    # Define the task\n",
        "    response_task = Task(\n",
        "        description=f\"Respond to the following email: {email_content}\",\n",
        "        agent=responder_agent\n",
        "    )\n",
        "\n",
        "    # Execute the task\n",
        "    response = response_task.execute()\n",
        "    return response"
      ],
      "metadata": {
        "id": "fDkp3XEIBMez"
      },
      "execution_count": 18,
      "outputs": []
    },
    {
      "cell_type": "code",
      "source": [
        "def send_response(service, message_id, response):\n",
        "    email_body = {\n",
        "        'raw': base64.urlsafe_b64encode(\n",
        "            f\"From: me\\nTo: {sender_email}\\nSubject: Re: {subject}\\n\\n{response}\".encode('utf-8')\n",
        "        ).decode('utf-8')\n",
        "    }\n",
        "    service.users().messages().send(userId='me', body=email_body).execute()\n",
        "    print(f\"Response sent to {sender_email}\")"
      ],
      "metadata": {
        "id": "ooHcaVsfBPtj"
      },
      "execution_count": 19,
      "outputs": []
    },
    {
      "cell_type": "code",
      "source": [
        "import os.path\n",
        "from google.auth.transport.requests import Request\n",
        "from google.oauth2.credentials import Credentials\n",
        "from google_auth_oauthlib.flow import InstalledAppFlow\n",
        "from googleapiclient.discovery import build\n",
        "\n",
        "# Define the scope for Gmail API\n",
        "SCOPES = ['https://www.googleapis.com/auth/gmail.modify']\n",
        "\n",
        "def authenticate_gmail():\n",
        "    creds = None\n",
        "    if os.path.exists('token.json'):\n",
        "        creds = Credentials.from_authorized_user_file('token.json', SCOPES)\n",
        "    if not creds or not creds.valid:\n",
        "        if creds and creds.expired and creds.refresh_token:\n",
        "            creds.refresh(Request())\n",
        "        else:\n",
        "            # Make sure 'credentials.json' is in the same directory as your script\n",
        "            flow = InstalledAppFlow.from_client_secrets_file('credentials.json', SCOPES)\n",
        "            creds = flow.run_local_server(port=0)\n",
        "        with open('token.json', 'w') as token:\n",
        "            token.write(creds.to_json())\n",
        "    return build('gmail', 'v1', credentials=creds)"
      ],
      "metadata": {
        "id": "kHAHm8Q0BSxL"
      },
      "execution_count": 20,
      "outputs": []
    },
    {
      "cell_type": "code",
      "source": [
        "!python main.py"
      ],
      "metadata": {
        "collapsed": true,
        "id": "_eMsXmZvBnho"
      },
      "execution_count": null,
      "outputs": []
    }
  ]
}