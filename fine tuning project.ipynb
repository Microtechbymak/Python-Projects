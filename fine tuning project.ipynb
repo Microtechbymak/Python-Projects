{
  "nbformat": 4,
  "nbformat_minor": 0,
  "metadata": {
    "colab": {
      "provenance": [],
      "authorship_tag": "ABX9TyM35f839FTQxx7805cGQl8W"
    },
    "kernelspec": {
      "name": "python3",
      "display_name": "Python 3"
    },
    "language_info": {
      "name": "python"
    },
    "widgets": {
      "application/vnd.jupyter.widget-state+json": {
        "3ad01d97ff414900b162dba1b5065db3": {
          "model_module": "@jupyter-widgets/controls",
          "model_name": "HBoxModel",
          "model_module_version": "1.5.0",
          "state": {
            "_dom_classes": [],
            "_model_module": "@jupyter-widgets/controls",
            "_model_module_version": "1.5.0",
            "_model_name": "HBoxModel",
            "_view_count": null,
            "_view_module": "@jupyter-widgets/controls",
            "_view_module_version": "1.5.0",
            "_view_name": "HBoxView",
            "box_style": "",
            "children": [
              "IPY_MODEL_f3b99f80eaef4bd8ae391d1bdd3ea474",
              "IPY_MODEL_9a9c7a5762d94070b3d6ddc083d5c135",
              "IPY_MODEL_ce11daeae5d74cd098aecd909f095ab1"
            ],
            "layout": "IPY_MODEL_349f2208fd4947f7be5e5cce2d120b5d"
          }
        },
        "f3b99f80eaef4bd8ae391d1bdd3ea474": {
          "model_module": "@jupyter-widgets/controls",
          "model_name": "HTMLModel",
          "model_module_version": "1.5.0",
          "state": {
            "_dom_classes": [],
            "_model_module": "@jupyter-widgets/controls",
            "_model_module_version": "1.5.0",
            "_model_name": "HTMLModel",
            "_view_count": null,
            "_view_module": "@jupyter-widgets/controls",
            "_view_module_version": "1.5.0",
            "_view_name": "HTMLView",
            "description": "",
            "description_tooltip": null,
            "layout": "IPY_MODEL_acc496d5b21c47ae83ff391484c756a3",
            "placeholder": "​",
            "style": "IPY_MODEL_d260791b9c8d479d8acd3d34485868d3",
            "value": "100%"
          }
        },
        "9a9c7a5762d94070b3d6ddc083d5c135": {
          "model_module": "@jupyter-widgets/controls",
          "model_name": "FloatProgressModel",
          "model_module_version": "1.5.0",
          "state": {
            "_dom_classes": [],
            "_model_module": "@jupyter-widgets/controls",
            "_model_module_version": "1.5.0",
            "_model_name": "FloatProgressModel",
            "_view_count": null,
            "_view_module": "@jupyter-widgets/controls",
            "_view_module_version": "1.5.0",
            "_view_name": "ProgressView",
            "bar_style": "success",
            "description": "",
            "description_tooltip": null,
            "layout": "IPY_MODEL_6941fa70b2644daf96558c32f06a020a",
            "max": 21,
            "min": 0,
            "orientation": "horizontal",
            "style": "IPY_MODEL_4baa5d094deb4f87a6cddf16cbe28aa5",
            "value": 21
          }
        },
        "ce11daeae5d74cd098aecd909f095ab1": {
          "model_module": "@jupyter-widgets/controls",
          "model_name": "HTMLModel",
          "model_module_version": "1.5.0",
          "state": {
            "_dom_classes": [],
            "_model_module": "@jupyter-widgets/controls",
            "_model_module_version": "1.5.0",
            "_model_name": "HTMLModel",
            "_view_count": null,
            "_view_module": "@jupyter-widgets/controls",
            "_view_module_version": "1.5.0",
            "_view_name": "HTMLView",
            "description": "",
            "description_tooltip": null,
            "layout": "IPY_MODEL_59c03938828f4beab359c8877813407a",
            "placeholder": "​",
            "style": "IPY_MODEL_b01f021742454666846b99c60b5deabd",
            "value": " 21/21 [01:37&lt;00:00,  1.53s/it]"
          }
        },
        "349f2208fd4947f7be5e5cce2d120b5d": {
          "model_module": "@jupyter-widgets/base",
          "model_name": "LayoutModel",
          "model_module_version": "1.2.0",
          "state": {
            "_model_module": "@jupyter-widgets/base",
            "_model_module_version": "1.2.0",
            "_model_name": "LayoutModel",
            "_view_count": null,
            "_view_module": "@jupyter-widgets/base",
            "_view_module_version": "1.2.0",
            "_view_name": "LayoutView",
            "align_content": null,
            "align_items": null,
            "align_self": null,
            "border": null,
            "bottom": null,
            "display": null,
            "flex": null,
            "flex_flow": null,
            "grid_area": null,
            "grid_auto_columns": null,
            "grid_auto_flow": null,
            "grid_auto_rows": null,
            "grid_column": null,
            "grid_gap": null,
            "grid_row": null,
            "grid_template_areas": null,
            "grid_template_columns": null,
            "grid_template_rows": null,
            "height": null,
            "justify_content": null,
            "justify_items": null,
            "left": null,
            "margin": null,
            "max_height": null,
            "max_width": null,
            "min_height": null,
            "min_width": null,
            "object_fit": null,
            "object_position": null,
            "order": null,
            "overflow": null,
            "overflow_x": null,
            "overflow_y": null,
            "padding": null,
            "right": null,
            "top": null,
            "visibility": null,
            "width": null
          }
        },
        "acc496d5b21c47ae83ff391484c756a3": {
          "model_module": "@jupyter-widgets/base",
          "model_name": "LayoutModel",
          "model_module_version": "1.2.0",
          "state": {
            "_model_module": "@jupyter-widgets/base",
            "_model_module_version": "1.2.0",
            "_model_name": "LayoutModel",
            "_view_count": null,
            "_view_module": "@jupyter-widgets/base",
            "_view_module_version": "1.2.0",
            "_view_name": "LayoutView",
            "align_content": null,
            "align_items": null,
            "align_self": null,
            "border": null,
            "bottom": null,
            "display": null,
            "flex": null,
            "flex_flow": null,
            "grid_area": null,
            "grid_auto_columns": null,
            "grid_auto_flow": null,
            "grid_auto_rows": null,
            "grid_column": null,
            "grid_gap": null,
            "grid_row": null,
            "grid_template_areas": null,
            "grid_template_columns": null,
            "grid_template_rows": null,
            "height": null,
            "justify_content": null,
            "justify_items": null,
            "left": null,
            "margin": null,
            "max_height": null,
            "max_width": null,
            "min_height": null,
            "min_width": null,
            "object_fit": null,
            "object_position": null,
            "order": null,
            "overflow": null,
            "overflow_x": null,
            "overflow_y": null,
            "padding": null,
            "right": null,
            "top": null,
            "visibility": null,
            "width": null
          }
        },
        "d260791b9c8d479d8acd3d34485868d3": {
          "model_module": "@jupyter-widgets/controls",
          "model_name": "DescriptionStyleModel",
          "model_module_version": "1.5.0",
          "state": {
            "_model_module": "@jupyter-widgets/controls",
            "_model_module_version": "1.5.0",
            "_model_name": "DescriptionStyleModel",
            "_view_count": null,
            "_view_module": "@jupyter-widgets/base",
            "_view_module_version": "1.2.0",
            "_view_name": "StyleView",
            "description_width": ""
          }
        },
        "6941fa70b2644daf96558c32f06a020a": {
          "model_module": "@jupyter-widgets/base",
          "model_name": "LayoutModel",
          "model_module_version": "1.2.0",
          "state": {
            "_model_module": "@jupyter-widgets/base",
            "_model_module_version": "1.2.0",
            "_model_name": "LayoutModel",
            "_view_count": null,
            "_view_module": "@jupyter-widgets/base",
            "_view_module_version": "1.2.0",
            "_view_name": "LayoutView",
            "align_content": null,
            "align_items": null,
            "align_self": null,
            "border": null,
            "bottom": null,
            "display": null,
            "flex": null,
            "flex_flow": null,
            "grid_area": null,
            "grid_auto_columns": null,
            "grid_auto_flow": null,
            "grid_auto_rows": null,
            "grid_column": null,
            "grid_gap": null,
            "grid_row": null,
            "grid_template_areas": null,
            "grid_template_columns": null,
            "grid_template_rows": null,
            "height": null,
            "justify_content": null,
            "justify_items": null,
            "left": null,
            "margin": null,
            "max_height": null,
            "max_width": null,
            "min_height": null,
            "min_width": null,
            "object_fit": null,
            "object_position": null,
            "order": null,
            "overflow": null,
            "overflow_x": null,
            "overflow_y": null,
            "padding": null,
            "right": null,
            "top": null,
            "visibility": null,
            "width": null
          }
        },
        "4baa5d094deb4f87a6cddf16cbe28aa5": {
          "model_module": "@jupyter-widgets/controls",
          "model_name": "ProgressStyleModel",
          "model_module_version": "1.5.0",
          "state": {
            "_model_module": "@jupyter-widgets/controls",
            "_model_module_version": "1.5.0",
            "_model_name": "ProgressStyleModel",
            "_view_count": null,
            "_view_module": "@jupyter-widgets/base",
            "_view_module_version": "1.2.0",
            "_view_name": "StyleView",
            "bar_color": null,
            "description_width": ""
          }
        },
        "59c03938828f4beab359c8877813407a": {
          "model_module": "@jupyter-widgets/base",
          "model_name": "LayoutModel",
          "model_module_version": "1.2.0",
          "state": {
            "_model_module": "@jupyter-widgets/base",
            "_model_module_version": "1.2.0",
            "_model_name": "LayoutModel",
            "_view_count": null,
            "_view_module": "@jupyter-widgets/base",
            "_view_module_version": "1.2.0",
            "_view_name": "LayoutView",
            "align_content": null,
            "align_items": null,
            "align_self": null,
            "border": null,
            "bottom": null,
            "display": null,
            "flex": null,
            "flex_flow": null,
            "grid_area": null,
            "grid_auto_columns": null,
            "grid_auto_flow": null,
            "grid_auto_rows": null,
            "grid_column": null,
            "grid_gap": null,
            "grid_row": null,
            "grid_template_areas": null,
            "grid_template_columns": null,
            "grid_template_rows": null,
            "height": null,
            "justify_content": null,
            "justify_items": null,
            "left": null,
            "margin": null,
            "max_height": null,
            "max_width": null,
            "min_height": null,
            "min_width": null,
            "object_fit": null,
            "object_position": null,
            "order": null,
            "overflow": null,
            "overflow_x": null,
            "overflow_y": null,
            "padding": null,
            "right": null,
            "top": null,
            "visibility": null,
            "width": null
          }
        },
        "b01f021742454666846b99c60b5deabd": {
          "model_module": "@jupyter-widgets/controls",
          "model_name": "DescriptionStyleModel",
          "model_module_version": "1.5.0",
          "state": {
            "_model_module": "@jupyter-widgets/controls",
            "_model_module_version": "1.5.0",
            "_model_name": "DescriptionStyleModel",
            "_view_count": null,
            "_view_module": "@jupyter-widgets/base",
            "_view_module_version": "1.2.0",
            "_view_name": "StyleView",
            "description_width": ""
          }
        }
      }
    }
  },
  "cells": [
    {
      "cell_type": "code",
      "execution_count": null,
      "metadata": {
        "id": "IbbFVnY5AoHZ"
      },
      "outputs": [],
      "source": [
        "!pip install -q google-generativeai"
      ]
    },
    {
      "cell_type": "code",
      "source": [
        "import google.generativeai as genai"
      ],
      "metadata": {
        "id": "XnlmfH2vA_Us"
      },
      "execution_count": null,
      "outputs": []
    },
    {
      "cell_type": "code",
      "source": [
        "from google.colab import userdata\n",
        "genai.configure(api_key=userdata.get('GOOGLE_API_KEY'))"
      ],
      "metadata": {
        "id": "pdJRAJ2IBDoc"
      },
      "execution_count": null,
      "outputs": []
    },
    {
      "cell_type": "code",
      "source": [
        "for i, m in zip(range(5), genai.list_tuned_models()):\n",
        "  print(m.name)"
      ],
      "metadata": {
        "id": "v_Pd8n7OBLh1"
      },
      "execution_count": null,
      "outputs": []
    },
    {
      "cell_type": "code",
      "source": [
        "base_model = [\n",
        "    m for m in genai.list_models()\n",
        "    if \"createTunedModel\" in m.supported_generation_methods and\n",
        "    \"flash\" in m.name][0]"
      ],
      "metadata": {
        "id": "zPl7dLq_BTwI"
      },
      "execution_count": null,
      "outputs": []
    },
    {
      "cell_type": "code",
      "source": [
        "import random\n",
        "import re\n",
        "\n",
        "name = f'Caption Generator-{random.randint(0,10000)}'\n",
        "# Modify the name to match the regex pattern for id\n",
        "tuned_model_id = re.sub(r'[^a-z0-9-]', '-', name.lower()).strip('-')\n",
        "# Ensure it starts with a lowercase letter and replace invalid characters with hyphens\n",
        "\n",
        "operation = genai.create_tuned_model(\n",
        "    # You can use a tuned model here too. Set `source_model=\"tunedModels/...\"`\n",
        "    source_model=base_model.name,\n",
        "    training_data=[\n",
        "        {\n",
        "             'text_input': 'GYM Training',\n",
        "             'output': 'No pain, no gain. 💪 #FitnessGoals #Workout #Motivation #Strength #Health',\n",
        "        },{\n",
        "             'text_input': 'Cake company',\n",
        "             'output': 'Sweet moments. 🧁 #CakeLove #SweetTreats #Desserts #Baking #Celebration',\n",
        "        },{\n",
        "             'text_input': 'Travel agency',\n",
        "             'output': 'Adventure awaits. 🌍 #TravelGoals #Wanderlust #Explore #Adventure #Vacation',\n",
        "        },{\n",
        "             'text_input': 'Fitness trainer',\n",
        "             'output': 'No pain, no gain. 💪 #FitnessGoals #Workout #Motivation #Strength #Health',\n",
        "        },{\n",
        "             'text_input': 'Coffee shop',\n",
        "             'output': 'Start your day right. ☕ #CoffeeLover #MorningBrew #Cafe #Energy #CozyVibes',\n",
        "        },{\n",
        "             'text_input': 'Dog grooming service',\n",
        "             'output': 'Pawsitively perfect. 🐶 #DogGrooming #PetCare #Dogs #FurryFriends #PamperedPets',\n",
        "        },{\n",
        "             'text_input': 'Bookstore',\n",
        "             'output': 'Escape into a book. 📚 #BookWorm #ReadingTime #Books #Literature #Imagination',\n",
        "        },{\n",
        "             'text_input': 'Yoga studio',\n",
        "             'output': 'Find your balance. 🧘‍♀️ #YogaLife #Mindfulness #Wellness #Balance #Peace',\n",
        "        },{\n",
        "             'text_input': 'Jewelry store',\n",
        "             'output': 'Shine bright. 💎 #JewelryLover #Sparkle #Luxury #Style #Glamour',\n",
        "        },{\n",
        "             'text_input': 'Spa and wellness center',\n",
        "             'output': 'Relax and rejuvenate. 🚰 #SpaDay #Wellness #Relaxation #PamperYourself #Beauty',\n",
        "        },{\n",
        "             'text_input': 'Car dealership',\n",
        "             'output': 'Drive your dream. 🚗 #CarLovers #AutoLife #DreamCar #LuxuryCars #Vehicle',\n",
        "        },{\n",
        "             'text_input': 'Photography studio',\n",
        "             'output': 'Capture the moment. 📸 #PhotographyLife #Memories #PhotoShoot #Creativity #Art',\n",
        "        },{\n",
        "             'text_input': 'Music school',\n",
        "             'output': 'Unleash your talent. 🎶 #MusicLovers #LearnMusic #Talent #Creativity #Passion',\n",
        "        },{\n",
        "             'text_input': 'Tech repair shop',\n",
        "             'output': 'Fix it right. 💻 #TechRepair #GadgetCare #Technology #Solutions #Innovation',\n",
        "        },{\n",
        "             'text_input': 'Pet adoption center',\n",
        "             'output': 'Find a friend for life. 🐕 #PetAdoption #AnimalLovers #RescuePets #ForeverHome #FurryFriend',\n",
        "        },{\n",
        "             'text_input': 'Toy store',\n",
        "             'output': 'Playtime paradise. 🧸 #ToyStore #KidsDream #Fun #Toys #Happiness',\n",
        "        },{\n",
        "             'text_input': 'Ice cream parlor',\n",
        "             'output': 'Chill out with a scoop. 🍦 #IceCreamLove #SweetTreat #Desserts #CoolDown #SummerVibes',\n",
        "        },{\n",
        "             'text_input': 'Florist',\n",
        "             'output': 'Bloom your day. 🌸 #FloristShop #FlowerLove #Nature #Beauty #Fresh',\n",
        "        },{\n",
        "             'text_input': 'Home decor shop',\n",
        "             'output': 'Style your home. 🏡 #HomeDecor #LivingSpaces #InteriorDesign #Style #Comfort',\n",
        "        },{\n",
        "             'text_input': 'Art gallery',\n",
        "             'output': 'Art that inspires. 🎨 #ArtGallery #Creativity #Inspiration #Artists #Masterpiece',\n",
        "        },{\n",
        "             'text_input': 'Sportswear shop',\n",
        "             'output': 'Gear up for greatness. 🏃‍♂️ #Sportswear #ActiveLife #Fitness #Style #Performance',\n",
        "        }\n",
        "    ],\n",
        "    id=tuned_model_id, # Use the modified id\n",
        "    epoch_count=4,\n",
        "    batch_size=4,\n",
        "    learning_rate=0.001,\n",
        ")\n"
      ],
      "metadata": {
        "id": "MJGimjjUEbb_"
      },
      "execution_count": null,
      "outputs": []
    },
    {
      "cell_type": "code",
      "source": [
        "model = genai.get_tuned_model(f'tunedModels/{tuned_model_id}')"
      ],
      "metadata": {
        "id": "QpSqhSS-EgPM"
      },
      "execution_count": null,
      "outputs": []
    },
    {
      "cell_type": "code",
      "source": [
        "import time\n",
        "\n",
        "for status in operation.wait_bar():\n",
        "  time.sleep(30)"
      ],
      "metadata": {
        "colab": {
          "base_uri": "https://localhost:8080/",
          "height": 49,
          "referenced_widgets": [
            "3ad01d97ff414900b162dba1b5065db3",
            "f3b99f80eaef4bd8ae391d1bdd3ea474",
            "9a9c7a5762d94070b3d6ddc083d5c135",
            "ce11daeae5d74cd098aecd909f095ab1",
            "349f2208fd4947f7be5e5cce2d120b5d",
            "acc496d5b21c47ae83ff391484c756a3",
            "d260791b9c8d479d8acd3d34485868d3",
            "6941fa70b2644daf96558c32f06a020a",
            "4baa5d094deb4f87a6cddf16cbe28aa5",
            "59c03938828f4beab359c8877813407a",
            "b01f021742454666846b99c60b5deabd"
          ]
        },
        "id": "kUgH4l2MEkcs",
        "outputId": "a6cb1ef1-15b1-4be5-f638-9cc2b4c20a1b"
      },
      "execution_count": null,
      "outputs": [
        {
          "output_type": "display_data",
          "data": {
            "text/plain": [
              "  0%|          | 0/21 [00:00<?, ?it/s]"
            ],
            "application/vnd.jupyter.widget-view+json": {
              "version_major": 2,
              "version_minor": 0,
              "model_id": "3ad01d97ff414900b162dba1b5065db3"
            }
          },
          "metadata": {}
        }
      ]
    },
    {
      "cell_type": "code",
      "source": [
        "import pandas as pd\n",
        "import seaborn as sns\n",
        "\n",
        "model = operation.result()\n",
        "\n",
        "snapshots = pd.DataFrame(model.tuning_task.snapshots)\n",
        "\n",
        "sns.lineplot(data=snapshots, x = 'epoch', y='mean_loss')"
      ],
      "metadata": {
        "colab": {
          "base_uri": "https://localhost:8080/",
          "height": 466
        },
        "id": "Q0uoo74mE739",
        "outputId": "081ce3a7-4342-4e17-e302-d63d483442a7"
      },
      "execution_count": null,
      "outputs": [
        {
          "output_type": "execute_result",
          "data": {
            "text/plain": [
              "<Axes: xlabel='epoch', ylabel='mean_loss'>"
            ]
          },
          "metadata": {},
          "execution_count": 10
        },
        {
          "output_type": "display_data",
          "data": {
            "text/plain": [
              "<Figure size 640x480 with 1 Axes>"
            ],
            "image/png": "[encoded data removed]"
          },
          "metadata": {}
        }
      ]
    },
    {
      "cell_type": "code",
      "source": [
        "model = genai.GenerativeModel(model_name=f'tunedModels/{tuned_model_id}')"
      ],
      "metadata": {
        "id": "yB61XxuGFCqA"
      },
      "execution_count": null,
      "outputs": []
    },
    {
      "cell_type": "code",
      "source": [
        "result = model.generate_content('Sports')\n",
        "result.text"
      ],
      "metadata": {
        "colab": {
          "base_uri": "https://localhost:8080/",
          "height": 35
        },
        "id": "RHOR8__PFL_y",
        "outputId": "226f8698-61fd-4b7e-d09b-9b31aeb5d27d"
      },
      "execution_count": null,
      "outputs": [
        {
          "output_type": "execute_result",
          "data": {
            "text/plain": [
              "'Sports ignite passion. #SportsLife #Fitness #Passion #Competition #Goals'"
            ],
            "application/vnd.google.colaboratory.intrinsic+json": {
              "type": "string"
            }
          },
          "metadata": {},
          "execution_count": 12
        }
      ]
    },
    {
      "cell_type": "code",
      "source": [
        "result = model.generate_content('Yoga')\n",
        "result.text"
      ],
      "metadata": {
        "colab": {
          "base_uri": "https://localhost:8080/",
          "height": 35
        },
        "id": "3rjn8iaYFP9b",
        "outputId": "0042a4a5-abee-456b-b582-323c26196bda"
      },
      "execution_count": null,
      "outputs": [
        {
          "output_type": "execute_result",
          "data": {
            "text/plain": [
              "'Find your peace. #YogaLife #Mindfulness #Wellness #Peace #Balance'"
            ],
            "application/vnd.google.colaboratory.intrinsic+json": {
              "type": "string"
            }
          },
          "metadata": {},
          "execution_count": 13
        }
      ]
    },
    {
      "cell_type": "code",
      "source": [
        "result = model.generate_content('Books')\n",
        "result.text"
      ],
      "metadata": {
        "colab": {
          "base_uri": "https://localhost:8080/",
          "height": 35
        },
        "id": "nYBfZVvvFTeA",
        "outputId": "386bdc29-32ac-44ac-fa9f-66907c77cb3c"
      },
      "execution_count": null,
      "outputs": [
        {
          "output_type": "execute_result",
          "data": {
            "text/plain": [
              "'Books are portals to new worlds. #Books #Reading #Literature #Escape #Bookshelf'"
            ],
            "application/vnd.google.colaboratory.intrinsic+json": {
              "type": "string"
            }
          },
          "metadata": {},
          "execution_count": 14
        }
      ]
    },
    {
      "cell_type": "code",
      "source": [
        "result = model.generate_content('Sportswear shop')\n",
        "result.text"
      ],
      "metadata": {
        "colab": {
          "base_uri": "https://localhost:8080/",
          "height": 35
        },
        "id": "NBgu5-DfFbF3",
        "outputId": "2fffda6c-be5d-4715-b699-ac8d71e3f38e"
      },
      "execution_count": null,
      "outputs": [
        {
          "output_type": "execute_result",
          "data": {
            "text/plain": [
              "'## Gear up for greatness. #Sportswear #ActiveLife #FitnessGoals #Performance #Style'"
            ],
            "application/vnd.google.colaboratory.intrinsic+json": {
              "type": "string"
            }
          },
          "metadata": {},
          "execution_count": 15
        }
      ]
    },
    {
      "cell_type": "code",
      "source": [
        "result = model.generate_content('Ice Cream')\n",
        "result.text"
      ],
      "metadata": {
        "colab": {
          "base_uri": "https://localhost:8080/",
          "height": 35
        },
        "id": "XbGBWb-mFf6L",
        "outputId": "b1b0bddc-b3eb-4207-b559-a00398943646"
      },
      "execution_count": null,
      "outputs": [
        {
          "output_type": "execute_result",
          "data": {
            "text/plain": [
              "'Cool down with a scoop of paradise. #IceCreamLove #SweetTreat #Desserts #Chill #SummerVibes'"
            ],
            "application/vnd.google.colaboratory.intrinsic+json": {
              "type": "string"
            }
          },
          "metadata": {},
          "execution_count": 16
        }
      ]
    },
    {
      "cell_type": "code",
      "source": [
        "genai.delete_tuned_model(f'tunedModels/{tuned_model_id}')"
      ],
      "metadata": {
        "id": "yWbT96_aFlnZ"
      },
      "execution_count": null,
      "outputs": []
    },
    {
      "cell_type": "code",
      "source": [
        "try:\n",
        "  m = genai.get_tuned_model(f'tunedModels/{tuned_model_id}')\n",
        "  print(m)\n",
        "except Exception as e:\n",
        "  print(f\"{type(e)}: {e}\")"
      ],
      "metadata": {
        "colab": {
          "base_uri": "https://localhost:8080/",
          "height": 72
        },
        "id": "9FeunnT4Fp8F",
        "outputId": "41bec58f-cd40-44b5-e263-fda53fd36a76"
      },
      "execution_count": null,
      "outputs": [
        {
          "output_type": "stream",
          "name": "stderr",
          "text": [
            "WARNING:tornado.access:404 GET /v1beta/tunedModels/caption-generator-8814?%24alt=json%3Benum-encoding%3Dint (127.0.0.1) 1189.81ms\n"
          ]
        },
        {
          "output_type": "stream",
          "name": "stdout",
          "text": [
            "<class 'google.api_core.exceptions.NotFound'>: 404 GET https://generativelanguage.googleapis.com/v1beta/tunedModels/caption-generator-8814?%24alt=json%3Benum-encoding%3Dint: Tuned model tunedModels/caption-generator-8814 does not exist.\n"
          ]
        }
      ]
    },
    {
      "cell_type": "code",
      "source": [
        "!pip install langchain google-generativeai seaborn pandas -qU"
      ],
      "metadata": {
        "colab": {
          "base_uri": "https://localhost:8080/"
        },
        "id": "G6NczpJjF0C2",
        "outputId": "ec0357e0-211c-4758-8eca-5b271171b42e"
      },
      "execution_count": null,
      "outputs": [
        {
          "output_type": "stream",
          "name": "stdout",
          "text": [
            "\u001b[2K     \u001b[90m━━━━━━━━━━━━━━━━━━━━━━━━━━━━━━━━━━━━━━━━\u001b[0m \u001b[32m89.9/89.9 kB\u001b[0m \u001b[31m2.3 MB/s\u001b[0m eta \u001b[36m0:00:00\u001b[0m\n",
            "\u001b[2K   \u001b[90m━━━━━━━━━━━━━━━━━━━━━━━━━━━━━━━━━━━━━━━━\u001b[0m \u001b[32m1.0/1.0 MB\u001b[0m \u001b[31m16.1 MB/s\u001b[0m eta \u001b[36m0:00:00\u001b[0m\n",
            "\u001b[2K   \u001b[90m━━━━━━━━━━━━━━━━━━━━━━━━━━━━━━━━━━━━━━━━\u001b[0m \u001b[32m13.1/13.1 MB\u001b[0m \u001b[31m79.1 MB/s\u001b[0m eta \u001b[36m0:00:00\u001b[0m\n",
            "\u001b[2K   \u001b[90m━━━━━━━━━━━━━━━━━━━━━━━━━━━━━━━━━━━━━━━━\u001b[0m \u001b[32m412.7/412.7 kB\u001b[0m \u001b[31m20.1 MB/s\u001b[0m eta \u001b[36m0:00:00\u001b[0m\n",
            "\u001b[?25h\u001b[31mERROR: pip's dependency resolver does not currently take into account all the packages that are installed. This behaviour is the source of the following dependency conflicts.\n",
            "google-colab 1.0.0 requires pandas==2.2.2, but you have pandas 2.2.3 which is incompatible.\u001b[0m\u001b[31m\n",
            "\u001b[0m"
          ]
        }
      ]
    },
    {
      "cell_type": "code",
      "source": [
        "import google.generativeai as genai\n",
        "\n",
        "# Configure API Key\n",
        "genai.configure(api_key=\"TUNED_MODEL_API_1\")"
      ],
      "metadata": {
        "id": "OBHpDY9HF-Y5"
      },
      "execution_count": null,
      "outputs": []
    },
    {
      "cell_type": "code",
      "source": [
        "!pip install langchain-community -q"
      ],
      "metadata": {
        "colab": {
          "base_uri": "https://localhost:8080/"
        },
        "id": "BkCsHmmGGAcy",
        "outputId": "ca33e69d-b811-443a-9e5e-1f308b01e42c"
      },
      "execution_count": null,
      "outputs": [
        {
          "output_type": "stream",
          "name": "stdout",
          "text": [
            "\u001b[2K   \u001b[90m━━━━━━━━━━━━━━━━━━━━━━━━━━━━━━━━━━━━━━━━\u001b[0m \u001b[32m2.5/2.5 MB\u001b[0m \u001b[31m26.5 MB/s\u001b[0m eta \u001b[36m0:00:00\u001b[0m\n",
            "\u001b[2K   \u001b[90m━━━━━━━━━━━━━━━━━━━━━━━━━━━━━━━━━━━━━━━━\u001b[0m \u001b[32m50.8/50.8 kB\u001b[0m \u001b[31m3.5 MB/s\u001b[0m eta \u001b[36m0:00:00\u001b[0m\n",
            "\u001b[?25h"
          ]
        }
      ]
    },
    {
      "cell_type": "code",
      "source": [
        "from langchain.llms.base import LLM\n",
        "from pydantic import BaseModel, Field\n",
        "\n",
        "# Custom LangChain LLM Wrapper\n",
        "class GoogleGenAICustomLLM(LLM, BaseModel):\n",
        "    model_name: str = Field(..., description=\"Name of the fine-tuned model\")\n",
        "\n",
        "    @property\n",
        "    def _llm_type(self) -> str:\n",
        "        return \"google_generative_ai\"\n",
        "\n",
        "    def _call(self, prompt: str, stop: list = None) -> str:\n",
        "        try:\n",
        "            model = genai.GenerativeModel(model_name=self.model_name)\n",
        "            response = model.generate_content(prompt)\n",
        "            return response.text\n",
        "        except Exception as e:\n",
        "            return f\"Error generating content: {e}\""
      ],
      "metadata": {
        "id": "YpyShL8hGGl2"
      },
      "execution_count": null,
      "outputs": []
    },
    {
      "cell_type": "code",
      "source": [
        "# Replace this with your actual fine-tuned model ID\n",
        "tuned_model_id = \"tunedModels/name-generator-c19d8v6ih2oz\"\n",
        "\n",
        "# Load the fine-tuned model\n",
        "model = genai.GenerativeModel(model_name=tuned_model_id)"
      ],
      "metadata": {
        "id": "PWKiQ_1DGK2i"
      },
      "execution_count": null,
      "outputs": []
    },
    {
      "cell_type": "code",
      "source": [
        "from langchain.prompts import PromptTemplate\n",
        "\n",
        "# Define the prompt template\n",
        "prompt = PromptTemplate(\n",
        "    input_variables=[\"business\"],\n",
        "    template=\"Generate a creative caption for {business}:\"\n",
        ")"
      ],
      "metadata": {
        "id": "MerABHSiGQ3C"
      },
      "execution_count": null,
      "outputs": []
    },
    {
      "cell_type": "code",
      "source": [
        "from langchain.chains import LLMChain\n",
        "\n",
        "llm = GoogleGenAICustomLLM(model_name=tuned_model_id)\n",
        "\n",
        "# Create an LLM chain\n",
        "chain = LLMChain(llm=llm, prompt=prompt)"
      ],
      "metadata": {
        "colab": {
          "base_uri": "https://localhost:8080/"
        },
        "id": "MkVo8mNzGUkW",
        "outputId": "f3800dc8-1968-41db-832e-944a51adda5a"
      },
      "execution_count": null,
      "outputs": [
        {
          "output_type": "stream",
          "name": "stderr",
          "text": [
            "<ipython-input-25-4f05958342ac>:6: LangChainDeprecationWarning: The class `LLMChain` was deprecated in LangChain 0.1.17 and will be removed in 1.0. Use :meth:`~RunnableSequence, e.g., `prompt | llm`` instead.\n",
            "  chain = LLMChain(llm=llm, prompt=prompt)\n"
          ]
        }
      ]
    },
    {
      "cell_type": "code",
      "source": [
        "# Example inputs\n",
        "businesses = [\"Sportswear shop\", \"Yoga studio\", \"Ice cream parlor\"]\n",
        "\n",
        "# Generate and print captions\n",
        "for business in businesses:\n",
        "    caption = chain.run(business=business)\n",
        "    print(f\"Business: {business}\\nCaption: {caption}\\n\")\n"
      ],
      "metadata": {
        "colab": {
          "base_uri": "https://localhost:8080/",
          "height": 280
        },
        "id": "RKUrT2vEGYaQ",
        "outputId": "41f22693-af24-46bb-c1e4-66248de72ee1"
      },
      "execution_count": null,
      "outputs": [
        {
          "output_type": "stream",
          "name": "stderr",
          "text": [
            "<ipython-input-26-feca2fe96778>:6: LangChainDeprecationWarning: The method `Chain.run` was deprecated in langchain 0.1.0 and will be removed in 1.0. Use :meth:`~invoke` instead.\n",
            "  caption = chain.run(business=business)\n",
            "WARNING:tornado.access:400 POST /v1beta/tunedModels/name-generator-c19d8v6ih2oz:generateContent?%24alt=json%3Benum-encoding%3Dint (127.0.0.1) 9865.86ms\n"
          ]
        },
        {
          "output_type": "stream",
          "name": "stdout",
          "text": [
            "Business: Sportswear shop\n",
            "Caption: Error generating content: 400 POST https://generativelanguage.googleapis.com/v1beta/tunedModels/name-generator-c19d8v6ih2oz:generateContent?%24alt=json%3Benum-encoding%3Dint: API key not valid. Please pass a valid API key.\n",
            "\n"
          ]
        },
        {
          "output_type": "stream",
          "name": "stderr",
          "text": [
            "WARNING:tornado.access:400 POST /v1beta/tunedModels/name-generator-c19d8v6ih2oz:generateContent?%24alt=json%3Benum-encoding%3Dint (127.0.0.1) 1545.77ms\n"
          ]
        },
        {
          "output_type": "stream",
          "name": "stdout",
          "text": [
            "Business: Yoga studio\n",
            "Caption: Error generating content: 400 POST https://generativelanguage.googleapis.com/v1beta/tunedModels/name-generator-c19d8v6ih2oz:generateContent?%24alt=json%3Benum-encoding%3Dint: API key not valid. Please pass a valid API key.\n",
            "\n",
            "Business: Ice cream parlor\n",
            "Caption: Error generating content: 400 POST https://generativelanguage.googleapis.com/v1beta/tunedModels/name-generator-c19d8v6ih2oz:generateContent?%24alt=json%3Benum-encoding%3Dint: API key not valid. Please pass a valid API key.\n",
            "\n"
          ]
        },
        {
          "output_type": "stream",
          "name": "stderr",
          "text": [
            "WARNING:tornado.access:400 POST /v1beta/tunedModels/name-generator-c19d8v6ih2oz:generateContent?%24alt=json%3Benum-encoding%3Dint (127.0.0.1) 3365.00ms\n"
          ]
        }
      ]
    }
  ]
}
