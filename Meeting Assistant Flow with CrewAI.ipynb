{
  "nbformat": 4,
  "nbformat_minor": 0,
  "metadata": {
    "colab": {
      "provenance": [],
      "authorship_tag": "ABX9TyPBdgLc4SnKZt1usJq53IP9"
    },
    "kernelspec": {
      "name": "python3",
      "display_name": "Python 3"
    },
    "language_info": {
      "name": "python"
    }
  },
  "cells": [
    {
      "cell_type": "code",
      "execution_count": null,
      "metadata": {
        "id": "R0B3P5P0PBqS"
      },
      "outputs": [],
      "source": [
        "pip install flask requests"
      ]
    },
    {
      "cell_type": "code",
      "source": [
        "from flask import Flask, request, jsonify\n",
        "import requests\n",
        "\n",
        "app = Flask(__name__)\n",
        "\n",
        "CREWAI_API_KEY = 'YOUR_CREWAI_API_KEY'\n",
        "CREWAI_API_URL = 'https://api.crewai.ai/v1/meetings'  # Adjust according to actual API documentation\n",
        "\n",
        "@app.route('/schedule_meeting', methods=['POST'])\n",
        "def schedule_meeting():\n",
        "    data = request.json\n",
        "    title = data.get('title')\n",
        "    participants = data.get('participants')\n",
        "    date_time = data.get('date_time')\n",
        "\n",
        "    # Make a request to CrewAI to schedule the meeting\n",
        "    response = requests.post(\n",
        "        CREWAI_API_URL,\n",
        "        headers={'Authorization': f'Bearer {CREWAI_API_KEY}'},\n",
        "        json={\n",
        "            'title': title,\n",
        "            'participants': participants,\n",
        "            'date_time': date_time\n",
        "        }\n",
        "    )\n",
        "\n",
        "    if response.status_code == 201:  # HTTP Status Code for Created\n",
        "        return jsonify({'message': 'Meeting scheduled successfully!', 'data': response.json()}), 201\n",
        "    else:\n",
        "        return jsonify({'error': 'Failed to schedule meeting', 'details': response.json()}), response.status_code\n",
        "\n",
        "@app.route('/get_meetings', methods=['GET'])\n",
        "def get_meetings():\n",
        "    response = requests.get(\n",
        "        CREWAI_API_URL,\n",
        "        headers={'Authorization': f'Bearer {CREWAI_API_KEY}'}\n",
        "    )\n",
        "\n",
        "    if response.status_code == 200:\n",
        "        return jsonify({'meetings': response.json()}), 200\n",
        "    else:\n",
        "        return jsonify({'error': 'Failed to retrieve meetings', 'details': response.json()}), response.status_code\n",
        "\n",
        "if __name__ == '__main__':\n",
        "    app.run(debug=True)\n"
      ],
      "metadata": {
        "id": "eN8RtttzPMcd"
      },
      "execution_count": null,
      "outputs": []
    },
    {
      "cell_type": "code",
      "source": [
        "!python your_script_name.py"
      ],
      "metadata": {
        "id": "dQuKNbl5PnHj"
      },
      "execution_count": null,
      "outputs": []
    },
    {
      "cell_type": "code",
      "source": [
        "!curl -X POST http://localhost:5000/schedule_meeting -H \"Content-Type: application/json\" -d '{\"title\": \"Team Sync\", \"participants\": [\"alice@example.com\", \"bob@example.com\"], \"date_time\": \"2023-10-20T10:00:00Z\"}'"
      ],
      "metadata": {
        "collapsed": true,
        "id": "czQZ-ELpPudW"
      },
      "execution_count": null,
      "outputs": []
    },
    {
      "cell_type": "code",
      "source": [
        "!curl http://localhost:5000/get_meetings"
      ],
      "metadata": {
        "id": "OPbaggG8P_HC"
      },
      "execution_count": null,
      "outputs": []
    }
  ]
}