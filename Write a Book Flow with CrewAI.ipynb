{
  "nbformat": 4,
  "nbformat_minor": 0,
  "metadata": {
    "colab": {
      "provenance": [],
      "authorship_tag": "ABX9TyMWOYUm1OnjdO84mRJp70dl"
    },
    "kernelspec": {
      "name": "python3",
      "display_name": "Python 3"
    },
    "language_info": {
      "name": "python"
    }
  },
  "cells": [
    {
      "cell_type": "code",
      "execution_count": 11,
      "metadata": {
        "colab": {
          "base_uri": "https://localhost:8080/"
        },
        "collapsed": true,
        "id": "qPs0SRpynAsi",
        "outputId": "922934f7-0381-48de-af03-f1b586c44497"
      },
      "outputs": [
        {
          "output_type": "stream",
          "name": "stdout",
          "text": [
            "Failed to fetch data from Google Books API\n",
            "Book Recommendations:\n",
            "No book data found.\n"
          ]
        }
      ],
      "source": [
        "import requests\n",
        "from crewai import Agent, Task, Crew\n",
        "\n",
        "# Step 1: Fetch Book Data from Google Books API\n",
        "def fetch_books(query, api_key, max_results=10):\n",
        "    \"\"\"\n",
        "    Fetches book data from Google Books API.\n",
        "    \"\"\"\n",
        "    url = f\"https://www.googleapis.com/books/v1/volumes?q={query}&key={api_key}&maxResults={max_results}\"\n",
        "    response = requests.get(url)\n",
        "    if response.status_code == 200:\n",
        "        return response.json()\n",
        "    else:\n",
        "        print(\"Failed to fetch data from Google Books API\")\n",
        "        return None\n",
        "\n",
        "# Step 2: Define CrewAI Agents and Tasks\n",
        "def setup_crewai():\n",
        "    \"\"\"\n",
        "    Sets up CrewAI agents and tasks for book recommendations.\n",
        "    \"\"\"\n",
        "    # Define a Book Recommender Agent\n",
        "    book_agent = Agent(\n",
        "        role=\"Book Recommender\",\n",
        "        goal=\"Provide book recommendations based on user preferences\",\n",
        "        backstory=\"An AI that specializes in literature and can suggest books based on various criteria.\"\n",
        "    )\n",
        "\n",
        "    # Define a Task for the Agent\n",
        "    recommendation_task = Task(\n",
        "        description=\"Analyze the fetched book data and recommend the best books.\",\n",
        "        agent=book_agent,\n",
        "        expected_output=\"A list of recommended books with titles, authors, and descriptions.\"\n",
        "    )\n",
        "\n",
        "    # Create a Crew with the Agent and Task\n",
        "    crew = Crew(\n",
        "        agents=[book_agent],\n",
        "        tasks=[recommendation_task]\n",
        "    )\n",
        "    return crew\n",
        "\n",
        "# Step 3: Book Flow Function\n",
        "def book_flow(query, api_key):\n",
        "    \"\"\"\n",
        "    Main function to fetch book data and process it using CrewAI.\n",
        "    \"\"\"\n",
        "    # Fetch book data from Google Books API\n",
        "    books_data = fetch_books(query, api_key)\n",
        "    if not books_data:\n",
        "        return \"No book data found.\"\n",
        "\n",
        "    # Set up CrewAI\n",
        "    crew = setup_crewai()\n",
        "\n",
        "    # Process the fetched data with CrewAI\n",
        "    result = crew.kickoff(input_data=books_data)\n",
        "    return result\n",
        "\n",
        "# Step 4: Run the Book Flow\n",
        "if __name__ == \"__main__\":\n",
        "    # Replace with your Google API Key\n",
        "    api_key = \"YOUR_GOOGLE_API_KEY\"\n",
        "\n",
        "    # Search query for books\n",
        "    query = \"machine learning\"\n",
        "\n",
        "    # Run the book flow\n",
        "    result = book_flow(query, api_key)\n",
        "    print(\"Book Recommendations:\")\n",
        "    print(result)"
      ]
    }
  ]
}